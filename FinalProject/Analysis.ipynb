{
  "nbformat": 4,
  "nbformat_minor": 0,
  "metadata": {
    "kernelspec": {
      "display_name": "Python 3",
      "language": "python",
      "name": "python3"
    },
    "language_info": {
      "codemirror_mode": {
        "name": "ipython",
        "version": 3
      },
      "file_extension": ".py",
      "mimetype": "text/x-python",
      "name": "python",
      "nbconvert_exporter": "python",
      "pygments_lexer": "ipython3",
      "version": "3.8.5"
    },
    "colab": {
      "name": "FinalPart1.ipynb",
      "provenance": []
    }
  },
  "cells": [
    {
      "cell_type": "markdown",
      "metadata": {
        "id": "UhcN-YJn4oZo"
      },
      "source": [
        "#Compare classification models' prediction whether a job is fraud or not using its description"
      ]
    },
    {
      "cell_type": "code",
      "metadata": {
        "id": "FbQw8Sm3ZQan"
      },
      "source": [
        "from google.colab import files"
      ],
      "execution_count": 15,
      "outputs": []
    },
    {
      "cell_type": "code",
      "metadata": {
        "colab": {
          "base_uri": "https://localhost:8080/",
          "height": 581
        },
        "id": "uCIKSgnOXAzv",
        "outputId": "7cfbaa0d-c9be-42d6-9b3b-940dab429053"
      },
      "source": [
        "import numpy as np \n",
        "import pandas as pd\n",
        "import os\n",
        "import matplotlib.pyplot as plt\n",
        "import seaborn as sns\n",
        "import re \n",
        "from sklearn.feature_extraction.text import TfidfVectorizer, CountVectorizer\n",
        "from nltk.stem.porter import PorterStemmer\n",
        "from nltk.corpus import stopwords\n",
        "from sklearn.model_selection import train_test_split\n",
        "from sklearn.ensemble import RandomForestClassifier\n",
        "import joblib\n",
        "from nltk.tokenize import RegexpTokenizer\n",
        "from nltk.stem import LancasterStemmer,WordNetLemmatizer\n",
        "import nltk\n",
        "from sklearn.model_selection import cross_val_score\n",
        "from sklearn.metrics import classification_report, confusion_matrix\n",
        "from sklearn.metrics import accuracy_score\n",
        "#from imblearn import SMOTE\n",
        "from sklearn.preprocessing import LabelEncoder\n",
        "\n",
        "\n",
        "nltk.download('stopwords')\n",
        "\n",
        "\n",
        "stop_words = set(stopwords.words(\"english\"))\n",
        "default_stemmer = PorterStemmer()\n",
        "default_stopwords = stopwords.words('english')\n",
        "default_tokenizer=RegexpTokenizer(r\"\\w+\")\n",
        "\n",
        "df = pd.read_csv(\"fake_job_postings.csv\")\n",
        "df.head()\n"
      ],
      "execution_count": 20,
      "outputs": [
        {
          "output_type": "stream",
          "text": [
            "[nltk_data] Downloading package stopwords to /root/nltk_data...\n",
            "[nltk_data]   Package stopwords is already up-to-date!\n"
          ],
          "name": "stdout"
        },
        {
          "output_type": "execute_result",
          "data": {
            "text/html": [
              "<div>\n",
              "<style scoped>\n",
              "    .dataframe tbody tr th:only-of-type {\n",
              "        vertical-align: middle;\n",
              "    }\n",
              "\n",
              "    .dataframe tbody tr th {\n",
              "        vertical-align: top;\n",
              "    }\n",
              "\n",
              "    .dataframe thead th {\n",
              "        text-align: right;\n",
              "    }\n",
              "</style>\n",
              "<table border=\"1\" class=\"dataframe\">\n",
              "  <thead>\n",
              "    <tr style=\"text-align: right;\">\n",
              "      <th></th>\n",
              "      <th>job_id</th>\n",
              "      <th>title</th>\n",
              "      <th>location</th>\n",
              "      <th>department</th>\n",
              "      <th>salary_range</th>\n",
              "      <th>company_profile</th>\n",
              "      <th>description</th>\n",
              "      <th>requirements</th>\n",
              "      <th>benefits</th>\n",
              "      <th>telecommuting</th>\n",
              "      <th>has_company_logo</th>\n",
              "      <th>has_questions</th>\n",
              "      <th>employment_type</th>\n",
              "      <th>required_experience</th>\n",
              "      <th>required_education</th>\n",
              "      <th>industry</th>\n",
              "      <th>function</th>\n",
              "      <th>fraudulent</th>\n",
              "    </tr>\n",
              "  </thead>\n",
              "  <tbody>\n",
              "    <tr>\n",
              "      <th>0</th>\n",
              "      <td>1</td>\n",
              "      <td>Marketing Intern</td>\n",
              "      <td>US, NY, New York</td>\n",
              "      <td>Marketing</td>\n",
              "      <td>NaN</td>\n",
              "      <td>We're Food52, and we've created a groundbreaki...</td>\n",
              "      <td>Food52, a fast-growing, James Beard Award-winn...</td>\n",
              "      <td>Experience with content management systems a m...</td>\n",
              "      <td>NaN</td>\n",
              "      <td>0</td>\n",
              "      <td>1</td>\n",
              "      <td>0</td>\n",
              "      <td>Other</td>\n",
              "      <td>Internship</td>\n",
              "      <td>NaN</td>\n",
              "      <td>NaN</td>\n",
              "      <td>Marketing</td>\n",
              "      <td>0</td>\n",
              "    </tr>\n",
              "    <tr>\n",
              "      <th>1</th>\n",
              "      <td>2</td>\n",
              "      <td>Customer Service - Cloud Video Production</td>\n",
              "      <td>NZ, , Auckland</td>\n",
              "      <td>Success</td>\n",
              "      <td>NaN</td>\n",
              "      <td>90 Seconds, the worlds Cloud Video Production ...</td>\n",
              "      <td>Organised - Focused - Vibrant - Awesome!Do you...</td>\n",
              "      <td>What we expect from you:Your key responsibilit...</td>\n",
              "      <td>What you will get from usThrough being part of...</td>\n",
              "      <td>0</td>\n",
              "      <td>1</td>\n",
              "      <td>0</td>\n",
              "      <td>Full-time</td>\n",
              "      <td>Not Applicable</td>\n",
              "      <td>NaN</td>\n",
              "      <td>Marketing and Advertising</td>\n",
              "      <td>Customer Service</td>\n",
              "      <td>0</td>\n",
              "    </tr>\n",
              "    <tr>\n",
              "      <th>2</th>\n",
              "      <td>3</td>\n",
              "      <td>Commissioning Machinery Assistant (CMA)</td>\n",
              "      <td>US, IA, Wever</td>\n",
              "      <td>NaN</td>\n",
              "      <td>NaN</td>\n",
              "      <td>Valor Services provides Workforce Solutions th...</td>\n",
              "      <td>Our client, located in Houston, is actively se...</td>\n",
              "      <td>Implement pre-commissioning and commissioning ...</td>\n",
              "      <td>NaN</td>\n",
              "      <td>0</td>\n",
              "      <td>1</td>\n",
              "      <td>0</td>\n",
              "      <td>NaN</td>\n",
              "      <td>NaN</td>\n",
              "      <td>NaN</td>\n",
              "      <td>NaN</td>\n",
              "      <td>NaN</td>\n",
              "      <td>0</td>\n",
              "    </tr>\n",
              "    <tr>\n",
              "      <th>3</th>\n",
              "      <td>4</td>\n",
              "      <td>Account Executive - Washington DC</td>\n",
              "      <td>US, DC, Washington</td>\n",
              "      <td>Sales</td>\n",
              "      <td>NaN</td>\n",
              "      <td>Our passion for improving quality of life thro...</td>\n",
              "      <td>THE COMPANY: ESRI – Environmental Systems Rese...</td>\n",
              "      <td>EDUCATION: Bachelor’s or Master’s in GIS, busi...</td>\n",
              "      <td>Our culture is anything but corporate—we have ...</td>\n",
              "      <td>0</td>\n",
              "      <td>1</td>\n",
              "      <td>0</td>\n",
              "      <td>Full-time</td>\n",
              "      <td>Mid-Senior level</td>\n",
              "      <td>Bachelor's Degree</td>\n",
              "      <td>Computer Software</td>\n",
              "      <td>Sales</td>\n",
              "      <td>0</td>\n",
              "    </tr>\n",
              "    <tr>\n",
              "      <th>4</th>\n",
              "      <td>5</td>\n",
              "      <td>Bill Review Manager</td>\n",
              "      <td>US, FL, Fort Worth</td>\n",
              "      <td>NaN</td>\n",
              "      <td>NaN</td>\n",
              "      <td>SpotSource Solutions LLC is a Global Human Cap...</td>\n",
              "      <td>JOB TITLE: Itemization Review ManagerLOCATION:...</td>\n",
              "      <td>QUALIFICATIONS:RN license in the State of Texa...</td>\n",
              "      <td>Full Benefits Offered</td>\n",
              "      <td>0</td>\n",
              "      <td>1</td>\n",
              "      <td>1</td>\n",
              "      <td>Full-time</td>\n",
              "      <td>Mid-Senior level</td>\n",
              "      <td>Bachelor's Degree</td>\n",
              "      <td>Hospital &amp; Health Care</td>\n",
              "      <td>Health Care Provider</td>\n",
              "      <td>0</td>\n",
              "    </tr>\n",
              "  </tbody>\n",
              "</table>\n",
              "</div>"
            ],
            "text/plain": [
              "   job_id  ... fraudulent\n",
              "0       1  ...          0\n",
              "1       2  ...          0\n",
              "2       3  ...          0\n",
              "3       4  ...          0\n",
              "4       5  ...          0\n",
              "\n",
              "[5 rows x 18 columns]"
            ]
          },
          "metadata": {
            "tags": []
          },
          "execution_count": 20
        }
      ]
    },
    {
      "cell_type": "code",
      "metadata": {
        "colab": {
          "base_uri": "https://localhost:8080/"
        },
        "id": "3FBVL2eCXAz1",
        "outputId": "f1e5821c-b59d-43a8-f1fd-d269f2ce261f"
      },
      "source": [
        "df.info() \n",
        "#categorical features: telecommuting, has_company_logo, has_questions, fraudulent (target)\n",
        "#text data: title, location, department, salary_range, company_profile, description, requirements, benefits, required_experience,required_education, industry, function"
      ],
      "execution_count": 2,
      "outputs": [
        {
          "output_type": "stream",
          "text": [
            "<class 'pandas.core.frame.DataFrame'>\n",
            "RangeIndex: 17880 entries, 0 to 17879\n",
            "Data columns (total 18 columns):\n",
            " #   Column               Non-Null Count  Dtype \n",
            "---  ------               --------------  ----- \n",
            " 0   job_id               17880 non-null  int64 \n",
            " 1   title                17880 non-null  object\n",
            " 2   location             17534 non-null  object\n",
            " 3   department           6333 non-null   object\n",
            " 4   salary_range         2868 non-null   object\n",
            " 5   company_profile      14572 non-null  object\n",
            " 6   description          17879 non-null  object\n",
            " 7   requirements         15185 non-null  object\n",
            " 8   benefits             10670 non-null  object\n",
            " 9   telecommuting        17880 non-null  int64 \n",
            " 10  has_company_logo     17880 non-null  int64 \n",
            " 11  has_questions        17880 non-null  int64 \n",
            " 12  employment_type      14409 non-null  object\n",
            " 13  required_experience  10830 non-null  object\n",
            " 14  required_education   9775 non-null   object\n",
            " 15  industry             12977 non-null  object\n",
            " 16  function             11425 non-null  object\n",
            " 17  fraudulent           17880 non-null  int64 \n",
            "dtypes: int64(5), object(13)\n",
            "memory usage: 2.5+ MB\n"
          ],
          "name": "stdout"
        }
      ]
    },
    {
      "cell_type": "code",
      "metadata": {
        "colab": {
          "base_uri": "https://localhost:8080/"
        },
        "id": "wpWBm7BAXAz2",
        "outputId": "a7539204-8ce2-4f9b-a485-4c84dbcda543"
      },
      "source": [
        "print('\\n',df.isnull().sum()/len(df))\n",
        "#drop all features with missing values % greather than 50%\n",
        "print(\"\\nDropped features: department, salary_range, job_id, benefits since\\n is_null().sum()/len(df) >= 0.5\\n\")\n",
        "df = df.drop('department',axis=1)\n",
        "df = df.drop('salary_range',axis=1)\n",
        "df = df.drop('job_id',axis = 1)\n",
        "df = df.drop('benefits', axis = 1)\n",
        "df = df.replace(np.nan, '', regex=True)\n",
        "print('\\n',df.isnull().sum()/len(df))"
      ],
      "execution_count": 3,
      "outputs": [
        {
          "output_type": "stream",
          "text": [
            "\n",
            " job_id                 0.000000\n",
            "title                  0.000000\n",
            "location               0.019351\n",
            "department             0.645805\n",
            "salary_range           0.839597\n",
            "company_profile        0.185011\n",
            "description            0.000056\n",
            "requirements           0.150727\n",
            "benefits               0.403244\n",
            "telecommuting          0.000000\n",
            "has_company_logo       0.000000\n",
            "has_questions          0.000000\n",
            "employment_type        0.194128\n",
            "required_experience    0.394295\n",
            "required_education     0.453300\n",
            "industry               0.274217\n",
            "function               0.361018\n",
            "fraudulent             0.000000\n",
            "dtype: float64\n",
            "\n",
            "Dropped features: department, salary_range, job_id, benefits since\n",
            " is_null().sum()/len(df) >= 0.5\n",
            "\n",
            "\n",
            " title                  0.0\n",
            "location               0.0\n",
            "company_profile        0.0\n",
            "description            0.0\n",
            "requirements           0.0\n",
            "telecommuting          0.0\n",
            "has_company_logo       0.0\n",
            "has_questions          0.0\n",
            "employment_type        0.0\n",
            "required_experience    0.0\n",
            "required_education     0.0\n",
            "industry               0.0\n",
            "function               0.0\n",
            "fraudulent             0.0\n",
            "dtype: float64\n"
          ],
          "name": "stdout"
        }
      ]
    },
    {
      "cell_type": "code",
      "metadata": {
        "colab": {
          "base_uri": "https://localhost:8080/"
        },
        "id": "iYujqcy3XAz2",
        "outputId": "5a4166ae-4396-49c4-9e01-e8740866675a"
      },
      "source": [
        "df['fraudulent'].value_counts()\n",
        "#Data is imbalanced"
      ],
      "execution_count": 4,
      "outputs": [
        {
          "output_type": "execute_result",
          "data": {
            "text/plain": [
              "0    17014\n",
              "1      866\n",
              "Name: fraudulent, dtype: int64"
            ]
          },
          "metadata": {
            "tags": []
          },
          "execution_count": 4
        }
      ]
    },
    {
      "cell_type": "code",
      "metadata": {
        "colab": {
          "base_uri": "https://localhost:8080/"
        },
        "id": "1kgkrfyUXAz2",
        "outputId": "5f0ec58d-cd20-40eb-d8de-d4ee7895255e"
      },
      "source": [
        "#combine all the text data into one column\n",
        "df['full_text'] = df['title'] + ' ' + df['location'] + ' ' + df['company_profile'] + ' ' + df['description'] + ' ' +  df['requirements'] + ' ' + df['employment_type'] + ' ' +  df['required_education'] + ' ' + df['required_experience'] + ' '+ df['industry'] + ' ' +  df['function']\n",
        "#remove the joined text columns from the dataset\n",
        "df.drop(['title','location','company_profile', 'industry','function','description','requirements', 'employment_type', 'required_education', 'required_experience'], axis=1, inplace=True)\n",
        "df.columns"
      ],
      "execution_count": 5,
      "outputs": [
        {
          "output_type": "execute_result",
          "data": {
            "text/plain": [
              "Index(['telecommuting', 'has_company_logo', 'has_questions', 'fraudulent',\n",
              "       'full_text'],\n",
              "      dtype='object')"
            ]
          },
          "metadata": {
            "tags": []
          },
          "execution_count": 5
        }
      ]
    },
    {
      "cell_type": "code",
      "metadata": {
        "colab": {
          "base_uri": "https://localhost:8080/",
          "height": 204
        },
        "id": "gde96EdJXAz3",
        "outputId": "c4772817-01c1-4dbd-be90-8195c77a50cf"
      },
      "source": [
        "df.head()"
      ],
      "execution_count": 6,
      "outputs": [
        {
          "output_type": "execute_result",
          "data": {
            "text/html": [
              "<div>\n",
              "<style scoped>\n",
              "    .dataframe tbody tr th:only-of-type {\n",
              "        vertical-align: middle;\n",
              "    }\n",
              "\n",
              "    .dataframe tbody tr th {\n",
              "        vertical-align: top;\n",
              "    }\n",
              "\n",
              "    .dataframe thead th {\n",
              "        text-align: right;\n",
              "    }\n",
              "</style>\n",
              "<table border=\"1\" class=\"dataframe\">\n",
              "  <thead>\n",
              "    <tr style=\"text-align: right;\">\n",
              "      <th></th>\n",
              "      <th>telecommuting</th>\n",
              "      <th>has_company_logo</th>\n",
              "      <th>has_questions</th>\n",
              "      <th>fraudulent</th>\n",
              "      <th>full_text</th>\n",
              "    </tr>\n",
              "  </thead>\n",
              "  <tbody>\n",
              "    <tr>\n",
              "      <th>0</th>\n",
              "      <td>0</td>\n",
              "      <td>1</td>\n",
              "      <td>0</td>\n",
              "      <td>0</td>\n",
              "      <td>Marketing Intern US, NY, New York We're Food52...</td>\n",
              "    </tr>\n",
              "    <tr>\n",
              "      <th>1</th>\n",
              "      <td>0</td>\n",
              "      <td>1</td>\n",
              "      <td>0</td>\n",
              "      <td>0</td>\n",
              "      <td>Customer Service - Cloud Video Production NZ, ...</td>\n",
              "    </tr>\n",
              "    <tr>\n",
              "      <th>2</th>\n",
              "      <td>0</td>\n",
              "      <td>1</td>\n",
              "      <td>0</td>\n",
              "      <td>0</td>\n",
              "      <td>Commissioning Machinery Assistant (CMA) US, IA...</td>\n",
              "    </tr>\n",
              "    <tr>\n",
              "      <th>3</th>\n",
              "      <td>0</td>\n",
              "      <td>1</td>\n",
              "      <td>0</td>\n",
              "      <td>0</td>\n",
              "      <td>Account Executive - Washington DC US, DC, Wash...</td>\n",
              "    </tr>\n",
              "    <tr>\n",
              "      <th>4</th>\n",
              "      <td>0</td>\n",
              "      <td>1</td>\n",
              "      <td>1</td>\n",
              "      <td>0</td>\n",
              "      <td>Bill Review Manager US, FL, Fort Worth SpotSou...</td>\n",
              "    </tr>\n",
              "  </tbody>\n",
              "</table>\n",
              "</div>"
            ],
            "text/plain": [
              "   telecommuting  ...                                          full_text\n",
              "0              0  ...  Marketing Intern US, NY, New York We're Food52...\n",
              "1              0  ...  Customer Service - Cloud Video Production NZ, ...\n",
              "2              0  ...  Commissioning Machinery Assistant (CMA) US, IA...\n",
              "3              0  ...  Account Executive - Washington DC US, DC, Wash...\n",
              "4              0  ...  Bill Review Manager US, FL, Fort Worth SpotSou...\n",
              "\n",
              "[5 rows x 5 columns]"
            ]
          },
          "metadata": {
            "tags": []
          },
          "execution_count": 6
        }
      ]
    },
    {
      "cell_type": "code",
      "metadata": {
        "colab": {
          "base_uri": "https://localhost:8080/"
        },
        "id": "F7Fu_p8bXAz3",
        "outputId": "fd7581b4-8be1-4672-93f1-827bb0889d28"
      },
      "source": [
        "def clean_text(text, ):\n",
        "        if text is not None:\n",
        "                text = re.sub(r'[0-9]+','',text)\n",
        "                text =  text.lower()\n",
        "                text = re.sub('re:', '', text)\n",
        "                text = re.sub('-', '', text)\n",
        "                text = re.sub('_', '', text)\n",
        "                text = re.sub(r'^https?:\\/\\/.*[\\r\\n]*', '', text, flags=re.MULTILINE)\n",
        "                text = re.sub(r'\\S*@\\S*\\s?', '', text, flags=re.MULTILINE)\n",
        "        # Remove text between square brackets\n",
        "                text =re.sub('\\[[^]]*\\]', '', text)\n",
        "        # removes punctuation\n",
        "                text = re.sub(r'[^\\w\\s]','',text)\n",
        "                text = re.sub(r'\\n',' ',text)\n",
        "                text = re.sub(r'[0-9]+','',text)\n",
        "                #text = re.sub(r'[0-9]+','',text)\n",
        "        # strip html \n",
        "                p = re.compile(r'<.*?>')\n",
        "                text = re.sub(r\"\\'ve\", \" have \", text)\n",
        "                text = re.sub(r\"can't\", \"cannot \", text)\n",
        "                text = re.sub(r\"n't\", \" not \", text)\n",
        "                text = re.sub(r\"I'm\", \"I am\", text)\n",
        "                text = re.sub(r\" m \", \" am \", text)\n",
        "                text = re.sub(r\"\\'re\", \" are \", text)\n",
        "                text = re.sub(r\"\\'d\", \" would \", text)\n",
        "                text = re.sub(r\"\\'ll\", \" will \", text)\n",
        "        \n",
        "                text = p.sub('', text)\n",
        "\n",
        "        def tokenize_text(text,tokenizer=default_tokenizer):\n",
        "            token = default_tokenizer.tokenize(text)\n",
        "            return token\n",
        "        \n",
        "        def remove_stopwords(text, stop_words=default_stopwords):\n",
        "            tokens = [w for w in tokenize_text(text) if w not in stop_words]\n",
        "            return ' '.join(tokens)\n",
        "\n",
        "        def stem_text(text, stemmer=default_stemmer):\n",
        "            tokens = tokenize_text(text)\n",
        "            return ' '.join([stemmer.stem(t) for t in tokens])\n",
        "\n",
        "        text = stem_text(text) # stemming\n",
        "        text = remove_stopwords(text) # remove stopwords\n",
        "\n",
        "        return text\n",
        "df['full_text'] = df['full_text'].apply(clean_text)\n",
        "df['full_text'].head()"
      ],
      "execution_count": 7,
      "outputs": [
        {
          "output_type": "execute_result",
          "data": {
            "text/plain": [
              "0    market intern us ny new york food weve creat g...\n",
              "1    custom servic cloud video product nz auckland ...\n",
              "2    commiss machineri assist cma us ia wever valor...\n",
              "3    account execut washington dc us dc washington ...\n",
              "4    bill review manag us fl fort worth spotsourc s...\n",
              "Name: full_text, dtype: object"
            ]
          },
          "metadata": {
            "tags": []
          },
          "execution_count": 7
        }
      ]
    },
    {
      "cell_type": "code",
      "metadata": {
        "colab": {
          "base_uri": "https://localhost:8080/",
          "height": 17
        },
        "id": "tfWfKtiqXAz4",
        "outputId": "23a80732-3e55-4936-a2f1-60608b87147b"
      },
      "source": [
        "df.to_csv('combined_text.csv')\n",
        "files.download('combined_text.csv')\n",
        "df.head()\n",
        "df1 = df.copy()"
      ],
      "execution_count": 16,
      "outputs": [
        {
          "output_type": "display_data",
          "data": {
            "application/javascript": [
              "\n",
              "    async function download(id, filename, size) {\n",
              "      if (!google.colab.kernel.accessAllowed) {\n",
              "        return;\n",
              "      }\n",
              "      const div = document.createElement('div');\n",
              "      const label = document.createElement('label');\n",
              "      label.textContent = `Downloading \"${filename}\": `;\n",
              "      div.appendChild(label);\n",
              "      const progress = document.createElement('progress');\n",
              "      progress.max = size;\n",
              "      div.appendChild(progress);\n",
              "      document.body.appendChild(div);\n",
              "\n",
              "      const buffers = [];\n",
              "      let downloaded = 0;\n",
              "\n",
              "      const channel = await google.colab.kernel.comms.open(id);\n",
              "      // Send a message to notify the kernel that we're ready.\n",
              "      channel.send({})\n",
              "\n",
              "      for await (const message of channel.messages) {\n",
              "        // Send a message to notify the kernel that we're ready.\n",
              "        channel.send({})\n",
              "        if (message.buffers) {\n",
              "          for (const buffer of message.buffers) {\n",
              "            buffers.push(buffer);\n",
              "            downloaded += buffer.byteLength;\n",
              "            progress.value = downloaded;\n",
              "          }\n",
              "        }\n",
              "      }\n",
              "      const blob = new Blob(buffers, {type: 'application/binary'});\n",
              "      const a = document.createElement('a');\n",
              "      a.href = window.URL.createObjectURL(blob);\n",
              "      a.download = filename;\n",
              "      div.appendChild(a);\n",
              "      a.click();\n",
              "      div.remove();\n",
              "    }\n",
              "  "
            ],
            "text/plain": [
              "<IPython.core.display.Javascript object>"
            ]
          },
          "metadata": {
            "tags": []
          }
        },
        {
          "output_type": "display_data",
          "data": {
            "application/javascript": [
              "download(\"download_6138ced4-cd43-4971-90a7-ed8214743f6c\", \"combined_text.csv\", 29519719)"
            ],
            "text/plain": [
              "<IPython.core.display.Javascript object>"
            ]
          },
          "metadata": {
            "tags": []
          }
        }
      ]
    },
    {
      "cell_type": "code",
      "metadata": {
        "id": "p-9Uyr09XAz5"
      },
      "source": [
        "df = pd.read_csv('combined_text.csv')\n",
        "from sklearn.feature_extraction.text import TfidfVectorizer, CountVectorizer\n",
        "\n",
        "tfidf = TfidfVectorizer(max_features = 200)\n",
        "cv = CountVectorizer(max_features = 200)\n",
        "\n",
        "text_num_tfidf = tfidf.fit_transform(df['full_text'])\n",
        "text_num_cv = cv.fit_transform(df['full_text'])\n",
        "\n",
        "df_tfidf = pd.DataFrame(text_num_tfidf.toarray(), columns=tfidf.get_feature_names())\n",
        "df_cv = pd.DataFrame(text_num_cv.toarray(), columns=cv.get_feature_names())\n",
        "\n",
        "df.drop([\"full_text\"], axis=1, inplace=True)\n",
        "main_df_tfidf = pd.concat([df_tfidf,df], axis=1)\n",
        "main_df_cv = pd.concat([df_cv,df], axis=1)"
      ],
      "execution_count": 17,
      "outputs": []
    },
    {
      "cell_type": "code",
      "metadata": {
        "colab": {
          "base_uri": "https://localhost:8080/",
          "height": 456
        },
        "id": "WVYEHMXUaH3n",
        "outputId": "4d4423fd-8d69-4be7-a134-17e7e3753355"
      },
      "source": [
        "main_df_cv"
      ],
      "execution_count": 19,
      "outputs": [
        {
          "output_type": "execute_result",
          "data": {
            "text/html": [
              "<div>\n",
              "<style scoped>\n",
              "    .dataframe tbody tr th:only-of-type {\n",
              "        vertical-align: middle;\n",
              "    }\n",
              "\n",
              "    .dataframe tbody tr th {\n",
              "        vertical-align: top;\n",
              "    }\n",
              "\n",
              "    .dataframe thead th {\n",
              "        text-align: right;\n",
              "    }\n",
              "</style>\n",
              "<table border=\"1\" class=\"dataframe\">\n",
              "  <thead>\n",
              "    <tr style=\"text-align: right;\">\n",
              "      <th></th>\n",
              "      <th>abil</th>\n",
              "      <th>abl</th>\n",
              "      <th>account</th>\n",
              "      <th>across</th>\n",
              "      <th>activ</th>\n",
              "      <th>administr</th>\n",
              "      <th>agenc</th>\n",
              "      <th>also</th>\n",
              "      <th>amp</th>\n",
              "      <th>analyt</th>\n",
              "      <th>andor</th>\n",
              "      <th>ani</th>\n",
              "      <th>appli</th>\n",
              "      <th>applic</th>\n",
              "      <th>area</th>\n",
              "      <th>assist</th>\n",
              "      <th>associ</th>\n",
              "      <th>avail</th>\n",
              "      <th>bachelor</th>\n",
              "      <th>base</th>\n",
              "      <th>best</th>\n",
              "      <th>brand</th>\n",
              "      <th>build</th>\n",
              "      <th>busi</th>\n",
              "      <th>candid</th>\n",
              "      <th>care</th>\n",
              "      <th>career</th>\n",
              "      <th>chang</th>\n",
              "      <th>client</th>\n",
              "      <th>close</th>\n",
              "      <th>collabor</th>\n",
              "      <th>commun</th>\n",
              "      <th>compani</th>\n",
              "      <th>comput</th>\n",
              "      <th>consult</th>\n",
              "      <th>content</th>\n",
              "      <th>continu</th>\n",
              "      <th>contract</th>\n",
              "      <th>creat</th>\n",
              "      <th>creativ</th>\n",
              "      <th>...</th>\n",
              "      <th>softwar</th>\n",
              "      <th>solut</th>\n",
              "      <th>staff</th>\n",
              "      <th>startup</th>\n",
              "      <th>strategi</th>\n",
              "      <th>strong</th>\n",
              "      <th>success</th>\n",
              "      <th>support</th>\n",
              "      <th>system</th>\n",
              "      <th>take</th>\n",
              "      <th>talent</th>\n",
              "      <th>team</th>\n",
              "      <th>technic</th>\n",
              "      <th>technolog</th>\n",
              "      <th>test</th>\n",
              "      <th>thi</th>\n",
              "      <th>time</th>\n",
              "      <th>tool</th>\n",
              "      <th>train</th>\n",
              "      <th>understand</th>\n",
              "      <th>us</th>\n",
              "      <th>use</th>\n",
              "      <th>user</th>\n",
              "      <th>valu</th>\n",
              "      <th>want</th>\n",
              "      <th>way</th>\n",
              "      <th>web</th>\n",
              "      <th>websit</th>\n",
              "      <th>well</th>\n",
              "      <th>within</th>\n",
              "      <th>work</th>\n",
              "      <th>world</th>\n",
              "      <th>written</th>\n",
              "      <th>year</th>\n",
              "      <th>youll</th>\n",
              "      <th>Unnamed: 0</th>\n",
              "      <th>telecommuting</th>\n",
              "      <th>has_company_logo</th>\n",
              "      <th>has_questions</th>\n",
              "      <th>fraudulent</th>\n",
              "    </tr>\n",
              "  </thead>\n",
              "  <tbody>\n",
              "    <tr>\n",
              "      <th>0</th>\n",
              "      <td>0</td>\n",
              "      <td>0</td>\n",
              "      <td>0</td>\n",
              "      <td>0</td>\n",
              "      <td>0</td>\n",
              "      <td>2</td>\n",
              "      <td>0</td>\n",
              "      <td>1</td>\n",
              "      <td>1</td>\n",
              "      <td>0</td>\n",
              "      <td>1</td>\n",
              "      <td>2</td>\n",
              "      <td>0</td>\n",
              "      <td>0</td>\n",
              "      <td>0</td>\n",
              "      <td>1</td>\n",
              "      <td>0</td>\n",
              "      <td>0</td>\n",
              "      <td>0</td>\n",
              "      <td>0</td>\n",
              "      <td>1</td>\n",
              "      <td>0</td>\n",
              "      <td>0</td>\n",
              "      <td>1</td>\n",
              "      <td>0</td>\n",
              "      <td>0</td>\n",
              "      <td>0</td>\n",
              "      <td>0</td>\n",
              "      <td>0</td>\n",
              "      <td>0</td>\n",
              "      <td>1</td>\n",
              "      <td>2</td>\n",
              "      <td>1</td>\n",
              "      <td>0</td>\n",
              "      <td>0</td>\n",
              "      <td>3</td>\n",
              "      <td>0</td>\n",
              "      <td>0</td>\n",
              "      <td>1</td>\n",
              "      <td>0</td>\n",
              "      <td>...</td>\n",
              "      <td>0</td>\n",
              "      <td>0</td>\n",
              "      <td>1</td>\n",
              "      <td>1</td>\n",
              "      <td>0</td>\n",
              "      <td>0</td>\n",
              "      <td>0</td>\n",
              "      <td>2</td>\n",
              "      <td>1</td>\n",
              "      <td>0</td>\n",
              "      <td>1</td>\n",
              "      <td>2</td>\n",
              "      <td>0</td>\n",
              "      <td>1</td>\n",
              "      <td>0</td>\n",
              "      <td>0</td>\n",
              "      <td>1</td>\n",
              "      <td>0</td>\n",
              "      <td>0</td>\n",
              "      <td>0</td>\n",
              "      <td>1</td>\n",
              "      <td>1</td>\n",
              "      <td>0</td>\n",
              "      <td>0</td>\n",
              "      <td>0</td>\n",
              "      <td>1</td>\n",
              "      <td>0</td>\n",
              "      <td>2</td>\n",
              "      <td>0</td>\n",
              "      <td>0</td>\n",
              "      <td>4</td>\n",
              "      <td>0</td>\n",
              "      <td>0</td>\n",
              "      <td>0</td>\n",
              "      <td>0</td>\n",
              "      <td>0</td>\n",
              "      <td>0</td>\n",
              "      <td>1</td>\n",
              "      <td>0</td>\n",
              "      <td>0</td>\n",
              "    </tr>\n",
              "    <tr>\n",
              "      <th>1</th>\n",
              "      <td>0</td>\n",
              "      <td>1</td>\n",
              "      <td>1</td>\n",
              "      <td>0</td>\n",
              "      <td>0</td>\n",
              "      <td>1</td>\n",
              "      <td>2</td>\n",
              "      <td>0</td>\n",
              "      <td>2</td>\n",
              "      <td>0</td>\n",
              "      <td>1</td>\n",
              "      <td>0</td>\n",
              "      <td>0</td>\n",
              "      <td>1</td>\n",
              "      <td>0</td>\n",
              "      <td>0</td>\n",
              "      <td>0</td>\n",
              "      <td>0</td>\n",
              "      <td>0</td>\n",
              "      <td>1</td>\n",
              "      <td>0</td>\n",
              "      <td>5</td>\n",
              "      <td>0</td>\n",
              "      <td>3</td>\n",
              "      <td>0</td>\n",
              "      <td>0</td>\n",
              "      <td>0</td>\n",
              "      <td>0</td>\n",
              "      <td>3</td>\n",
              "      <td>0</td>\n",
              "      <td>0</td>\n",
              "      <td>4</td>\n",
              "      <td>2</td>\n",
              "      <td>1</td>\n",
              "      <td>0</td>\n",
              "      <td>2</td>\n",
              "      <td>0</td>\n",
              "      <td>0</td>\n",
              "      <td>0</td>\n",
              "      <td>0</td>\n",
              "      <td>...</td>\n",
              "      <td>1</td>\n",
              "      <td>0</td>\n",
              "      <td>0</td>\n",
              "      <td>1</td>\n",
              "      <td>0</td>\n",
              "      <td>0</td>\n",
              "      <td>5</td>\n",
              "      <td>0</td>\n",
              "      <td>1</td>\n",
              "      <td>1</td>\n",
              "      <td>2</td>\n",
              "      <td>4</td>\n",
              "      <td>0</td>\n",
              "      <td>0</td>\n",
              "      <td>0</td>\n",
              "      <td>1</td>\n",
              "      <td>1</td>\n",
              "      <td>0</td>\n",
              "      <td>0</td>\n",
              "      <td>1</td>\n",
              "      <td>0</td>\n",
              "      <td>1</td>\n",
              "      <td>0</td>\n",
              "      <td>0</td>\n",
              "      <td>0</td>\n",
              "      <td>0</td>\n",
              "      <td>0</td>\n",
              "      <td>1</td>\n",
              "      <td>0</td>\n",
              "      <td>0</td>\n",
              "      <td>6</td>\n",
              "      <td>9</td>\n",
              "      <td>0</td>\n",
              "      <td>0</td>\n",
              "      <td>0</td>\n",
              "      <td>1</td>\n",
              "      <td>0</td>\n",
              "      <td>1</td>\n",
              "      <td>0</td>\n",
              "      <td>0</td>\n",
              "    </tr>\n",
              "    <tr>\n",
              "      <th>2</th>\n",
              "      <td>0</td>\n",
              "      <td>0</td>\n",
              "      <td>0</td>\n",
              "      <td>1</td>\n",
              "      <td>5</td>\n",
              "      <td>0</td>\n",
              "      <td>0</td>\n",
              "      <td>0</td>\n",
              "      <td>1</td>\n",
              "      <td>0</td>\n",
              "      <td>0</td>\n",
              "      <td>0</td>\n",
              "      <td>0</td>\n",
              "      <td>0</td>\n",
              "      <td>0</td>\n",
              "      <td>2</td>\n",
              "      <td>0</td>\n",
              "      <td>0</td>\n",
              "      <td>0</td>\n",
              "      <td>0</td>\n",
              "      <td>0</td>\n",
              "      <td>0</td>\n",
              "      <td>0</td>\n",
              "      <td>0</td>\n",
              "      <td>2</td>\n",
              "      <td>0</td>\n",
              "      <td>1</td>\n",
              "      <td>0</td>\n",
              "      <td>3</td>\n",
              "      <td>0</td>\n",
              "      <td>0</td>\n",
              "      <td>0</td>\n",
              "      <td>3</td>\n",
              "      <td>0</td>\n",
              "      <td>0</td>\n",
              "      <td>0</td>\n",
              "      <td>0</td>\n",
              "      <td>1</td>\n",
              "      <td>0</td>\n",
              "      <td>0</td>\n",
              "      <td>...</td>\n",
              "      <td>0</td>\n",
              "      <td>1</td>\n",
              "      <td>0</td>\n",
              "      <td>0</td>\n",
              "      <td>0</td>\n",
              "      <td>2</td>\n",
              "      <td>1</td>\n",
              "      <td>0</td>\n",
              "      <td>0</td>\n",
              "      <td>0</td>\n",
              "      <td>0</td>\n",
              "      <td>0</td>\n",
              "      <td>0</td>\n",
              "      <td>0</td>\n",
              "      <td>1</td>\n",
              "      <td>0</td>\n",
              "      <td>0</td>\n",
              "      <td>0</td>\n",
              "      <td>0</td>\n",
              "      <td>0</td>\n",
              "      <td>1</td>\n",
              "      <td>0</td>\n",
              "      <td>0</td>\n",
              "      <td>0</td>\n",
              "      <td>0</td>\n",
              "      <td>1</td>\n",
              "      <td>0</td>\n",
              "      <td>0</td>\n",
              "      <td>0</td>\n",
              "      <td>0</td>\n",
              "      <td>2</td>\n",
              "      <td>0</td>\n",
              "      <td>0</td>\n",
              "      <td>0</td>\n",
              "      <td>0</td>\n",
              "      <td>2</td>\n",
              "      <td>0</td>\n",
              "      <td>1</td>\n",
              "      <td>0</td>\n",
              "      <td>0</td>\n",
              "    </tr>\n",
              "    <tr>\n",
              "      <th>3</th>\n",
              "      <td>1</td>\n",
              "      <td>0</td>\n",
              "      <td>11</td>\n",
              "      <td>0</td>\n",
              "      <td>0</td>\n",
              "      <td>1</td>\n",
              "      <td>0</td>\n",
              "      <td>0</td>\n",
              "      <td>0</td>\n",
              "      <td>0</td>\n",
              "      <td>1</td>\n",
              "      <td>0</td>\n",
              "      <td>1</td>\n",
              "      <td>0</td>\n",
              "      <td>0</td>\n",
              "      <td>0</td>\n",
              "      <td>0</td>\n",
              "      <td>0</td>\n",
              "      <td>2</td>\n",
              "      <td>0</td>\n",
              "      <td>0</td>\n",
              "      <td>0</td>\n",
              "      <td>1</td>\n",
              "      <td>9</td>\n",
              "      <td>0</td>\n",
              "      <td>0</td>\n",
              "      <td>0</td>\n",
              "      <td>2</td>\n",
              "      <td>0</td>\n",
              "      <td>0</td>\n",
              "      <td>1</td>\n",
              "      <td>1</td>\n",
              "      <td>1</td>\n",
              "      <td>1</td>\n",
              "      <td>0</td>\n",
              "      <td>0</td>\n",
              "      <td>0</td>\n",
              "      <td>0</td>\n",
              "      <td>0</td>\n",
              "      <td>0</td>\n",
              "      <td>...</td>\n",
              "      <td>1</td>\n",
              "      <td>2</td>\n",
              "      <td>0</td>\n",
              "      <td>0</td>\n",
              "      <td>3</td>\n",
              "      <td>1</td>\n",
              "      <td>1</td>\n",
              "      <td>0</td>\n",
              "      <td>3</td>\n",
              "      <td>1</td>\n",
              "      <td>0</td>\n",
              "      <td>4</td>\n",
              "      <td>0</td>\n",
              "      <td>4</td>\n",
              "      <td>0</td>\n",
              "      <td>0</td>\n",
              "      <td>0</td>\n",
              "      <td>0</td>\n",
              "      <td>0</td>\n",
              "      <td>4</td>\n",
              "      <td>1</td>\n",
              "      <td>0</td>\n",
              "      <td>0</td>\n",
              "      <td>1</td>\n",
              "      <td>0</td>\n",
              "      <td>0</td>\n",
              "      <td>0</td>\n",
              "      <td>0</td>\n",
              "      <td>0</td>\n",
              "      <td>2</td>\n",
              "      <td>2</td>\n",
              "      <td>4</td>\n",
              "      <td>1</td>\n",
              "      <td>2</td>\n",
              "      <td>0</td>\n",
              "      <td>3</td>\n",
              "      <td>0</td>\n",
              "      <td>1</td>\n",
              "      <td>0</td>\n",
              "      <td>0</td>\n",
              "    </tr>\n",
              "    <tr>\n",
              "      <th>4</th>\n",
              "      <td>0</td>\n",
              "      <td>1</td>\n",
              "      <td>1</td>\n",
              "      <td>1</td>\n",
              "      <td>0</td>\n",
              "      <td>0</td>\n",
              "      <td>0</td>\n",
              "      <td>0</td>\n",
              "      <td>0</td>\n",
              "      <td>1</td>\n",
              "      <td>0</td>\n",
              "      <td>0</td>\n",
              "      <td>0</td>\n",
              "      <td>1</td>\n",
              "      <td>0</td>\n",
              "      <td>0</td>\n",
              "      <td>0</td>\n",
              "      <td>0</td>\n",
              "      <td>2</td>\n",
              "      <td>0</td>\n",
              "      <td>2</td>\n",
              "      <td>0</td>\n",
              "      <td>0</td>\n",
              "      <td>1</td>\n",
              "      <td>0</td>\n",
              "      <td>2</td>\n",
              "      <td>4</td>\n",
              "      <td>0</td>\n",
              "      <td>1</td>\n",
              "      <td>0</td>\n",
              "      <td>0</td>\n",
              "      <td>1</td>\n",
              "      <td>2</td>\n",
              "      <td>0</td>\n",
              "      <td>3</td>\n",
              "      <td>0</td>\n",
              "      <td>0</td>\n",
              "      <td>0</td>\n",
              "      <td>1</td>\n",
              "      <td>0</td>\n",
              "      <td>...</td>\n",
              "      <td>0</td>\n",
              "      <td>2</td>\n",
              "      <td>1</td>\n",
              "      <td>0</td>\n",
              "      <td>0</td>\n",
              "      <td>0</td>\n",
              "      <td>2</td>\n",
              "      <td>0</td>\n",
              "      <td>0</td>\n",
              "      <td>0</td>\n",
              "      <td>5</td>\n",
              "      <td>1</td>\n",
              "      <td>0</td>\n",
              "      <td>0</td>\n",
              "      <td>0</td>\n",
              "      <td>0</td>\n",
              "      <td>1</td>\n",
              "      <td>0</td>\n",
              "      <td>1</td>\n",
              "      <td>2</td>\n",
              "      <td>1</td>\n",
              "      <td>0</td>\n",
              "      <td>0</td>\n",
              "      <td>0</td>\n",
              "      <td>0</td>\n",
              "      <td>0</td>\n",
              "      <td>0</td>\n",
              "      <td>0</td>\n",
              "      <td>1</td>\n",
              "      <td>0</td>\n",
              "      <td>3</td>\n",
              "      <td>0</td>\n",
              "      <td>0</td>\n",
              "      <td>1</td>\n",
              "      <td>0</td>\n",
              "      <td>4</td>\n",
              "      <td>0</td>\n",
              "      <td>1</td>\n",
              "      <td>1</td>\n",
              "      <td>0</td>\n",
              "    </tr>\n",
              "    <tr>\n",
              "      <th>...</th>\n",
              "      <td>...</td>\n",
              "      <td>...</td>\n",
              "      <td>...</td>\n",
              "      <td>...</td>\n",
              "      <td>...</td>\n",
              "      <td>...</td>\n",
              "      <td>...</td>\n",
              "      <td>...</td>\n",
              "      <td>...</td>\n",
              "      <td>...</td>\n",
              "      <td>...</td>\n",
              "      <td>...</td>\n",
              "      <td>...</td>\n",
              "      <td>...</td>\n",
              "      <td>...</td>\n",
              "      <td>...</td>\n",
              "      <td>...</td>\n",
              "      <td>...</td>\n",
              "      <td>...</td>\n",
              "      <td>...</td>\n",
              "      <td>...</td>\n",
              "      <td>...</td>\n",
              "      <td>...</td>\n",
              "      <td>...</td>\n",
              "      <td>...</td>\n",
              "      <td>...</td>\n",
              "      <td>...</td>\n",
              "      <td>...</td>\n",
              "      <td>...</td>\n",
              "      <td>...</td>\n",
              "      <td>...</td>\n",
              "      <td>...</td>\n",
              "      <td>...</td>\n",
              "      <td>...</td>\n",
              "      <td>...</td>\n",
              "      <td>...</td>\n",
              "      <td>...</td>\n",
              "      <td>...</td>\n",
              "      <td>...</td>\n",
              "      <td>...</td>\n",
              "      <td>...</td>\n",
              "      <td>...</td>\n",
              "      <td>...</td>\n",
              "      <td>...</td>\n",
              "      <td>...</td>\n",
              "      <td>...</td>\n",
              "      <td>...</td>\n",
              "      <td>...</td>\n",
              "      <td>...</td>\n",
              "      <td>...</td>\n",
              "      <td>...</td>\n",
              "      <td>...</td>\n",
              "      <td>...</td>\n",
              "      <td>...</td>\n",
              "      <td>...</td>\n",
              "      <td>...</td>\n",
              "      <td>...</td>\n",
              "      <td>...</td>\n",
              "      <td>...</td>\n",
              "      <td>...</td>\n",
              "      <td>...</td>\n",
              "      <td>...</td>\n",
              "      <td>...</td>\n",
              "      <td>...</td>\n",
              "      <td>...</td>\n",
              "      <td>...</td>\n",
              "      <td>...</td>\n",
              "      <td>...</td>\n",
              "      <td>...</td>\n",
              "      <td>...</td>\n",
              "      <td>...</td>\n",
              "      <td>...</td>\n",
              "      <td>...</td>\n",
              "      <td>...</td>\n",
              "      <td>...</td>\n",
              "      <td>...</td>\n",
              "      <td>...</td>\n",
              "      <td>...</td>\n",
              "      <td>...</td>\n",
              "      <td>...</td>\n",
              "      <td>...</td>\n",
              "    </tr>\n",
              "    <tr>\n",
              "      <th>17875</th>\n",
              "      <td>1</td>\n",
              "      <td>0</td>\n",
              "      <td>3</td>\n",
              "      <td>3</td>\n",
              "      <td>0</td>\n",
              "      <td>1</td>\n",
              "      <td>0</td>\n",
              "      <td>1</td>\n",
              "      <td>4</td>\n",
              "      <td>0</td>\n",
              "      <td>0</td>\n",
              "      <td>0</td>\n",
              "      <td>0</td>\n",
              "      <td>0</td>\n",
              "      <td>1</td>\n",
              "      <td>0</td>\n",
              "      <td>1</td>\n",
              "      <td>0</td>\n",
              "      <td>0</td>\n",
              "      <td>1</td>\n",
              "      <td>1</td>\n",
              "      <td>1</td>\n",
              "      <td>3</td>\n",
              "      <td>3</td>\n",
              "      <td>0</td>\n",
              "      <td>2</td>\n",
              "      <td>0</td>\n",
              "      <td>1</td>\n",
              "      <td>0</td>\n",
              "      <td>0</td>\n",
              "      <td>1</td>\n",
              "      <td>1</td>\n",
              "      <td>4</td>\n",
              "      <td>1</td>\n",
              "      <td>0</td>\n",
              "      <td>0</td>\n",
              "      <td>0</td>\n",
              "      <td>0</td>\n",
              "      <td>0</td>\n",
              "      <td>0</td>\n",
              "      <td>...</td>\n",
              "      <td>3</td>\n",
              "      <td>0</td>\n",
              "      <td>0</td>\n",
              "      <td>1</td>\n",
              "      <td>0</td>\n",
              "      <td>3</td>\n",
              "      <td>4</td>\n",
              "      <td>1</td>\n",
              "      <td>0</td>\n",
              "      <td>3</td>\n",
              "      <td>2</td>\n",
              "      <td>5</td>\n",
              "      <td>0</td>\n",
              "      <td>0</td>\n",
              "      <td>0</td>\n",
              "      <td>4</td>\n",
              "      <td>1</td>\n",
              "      <td>0</td>\n",
              "      <td>1</td>\n",
              "      <td>1</td>\n",
              "      <td>2</td>\n",
              "      <td>0</td>\n",
              "      <td>0</td>\n",
              "      <td>0</td>\n",
              "      <td>5</td>\n",
              "      <td>1</td>\n",
              "      <td>1</td>\n",
              "      <td>1</td>\n",
              "      <td>0</td>\n",
              "      <td>1</td>\n",
              "      <td>11</td>\n",
              "      <td>2</td>\n",
              "      <td>0</td>\n",
              "      <td>0</td>\n",
              "      <td>4</td>\n",
              "      <td>17875</td>\n",
              "      <td>0</td>\n",
              "      <td>1</td>\n",
              "      <td>1</td>\n",
              "      <td>0</td>\n",
              "    </tr>\n",
              "    <tr>\n",
              "      <th>17876</th>\n",
              "      <td>2</td>\n",
              "      <td>1</td>\n",
              "      <td>12</td>\n",
              "      <td>0</td>\n",
              "      <td>0</td>\n",
              "      <td>2</td>\n",
              "      <td>0</td>\n",
              "      <td>1</td>\n",
              "      <td>1</td>\n",
              "      <td>0</td>\n",
              "      <td>0</td>\n",
              "      <td>1</td>\n",
              "      <td>0</td>\n",
              "      <td>1</td>\n",
              "      <td>0</td>\n",
              "      <td>2</td>\n",
              "      <td>0</td>\n",
              "      <td>0</td>\n",
              "      <td>1</td>\n",
              "      <td>2</td>\n",
              "      <td>0</td>\n",
              "      <td>2</td>\n",
              "      <td>0</td>\n",
              "      <td>0</td>\n",
              "      <td>2</td>\n",
              "      <td>0</td>\n",
              "      <td>0</td>\n",
              "      <td>0</td>\n",
              "      <td>3</td>\n",
              "      <td>0</td>\n",
              "      <td>0</td>\n",
              "      <td>1</td>\n",
              "      <td>2</td>\n",
              "      <td>1</td>\n",
              "      <td>0</td>\n",
              "      <td>0</td>\n",
              "      <td>0</td>\n",
              "      <td>0</td>\n",
              "      <td>2</td>\n",
              "      <td>0</td>\n",
              "      <td>...</td>\n",
              "      <td>0</td>\n",
              "      <td>1</td>\n",
              "      <td>0</td>\n",
              "      <td>0</td>\n",
              "      <td>1</td>\n",
              "      <td>1</td>\n",
              "      <td>1</td>\n",
              "      <td>1</td>\n",
              "      <td>0</td>\n",
              "      <td>1</td>\n",
              "      <td>0</td>\n",
              "      <td>1</td>\n",
              "      <td>0</td>\n",
              "      <td>1</td>\n",
              "      <td>0</td>\n",
              "      <td>1</td>\n",
              "      <td>2</td>\n",
              "      <td>3</td>\n",
              "      <td>0</td>\n",
              "      <td>1</td>\n",
              "      <td>3</td>\n",
              "      <td>1</td>\n",
              "      <td>0</td>\n",
              "      <td>0</td>\n",
              "      <td>1</td>\n",
              "      <td>0</td>\n",
              "      <td>1</td>\n",
              "      <td>0</td>\n",
              "      <td>1</td>\n",
              "      <td>1</td>\n",
              "      <td>5</td>\n",
              "      <td>0</td>\n",
              "      <td>0</td>\n",
              "      <td>2</td>\n",
              "      <td>0</td>\n",
              "      <td>17876</td>\n",
              "      <td>0</td>\n",
              "      <td>1</td>\n",
              "      <td>1</td>\n",
              "      <td>0</td>\n",
              "    </tr>\n",
              "    <tr>\n",
              "      <th>17877</th>\n",
              "      <td>0</td>\n",
              "      <td>1</td>\n",
              "      <td>2</td>\n",
              "      <td>0</td>\n",
              "      <td>0</td>\n",
              "      <td>0</td>\n",
              "      <td>0</td>\n",
              "      <td>0</td>\n",
              "      <td>0</td>\n",
              "      <td>2</td>\n",
              "      <td>0</td>\n",
              "      <td>0</td>\n",
              "      <td>2</td>\n",
              "      <td>0</td>\n",
              "      <td>0</td>\n",
              "      <td>0</td>\n",
              "      <td>0</td>\n",
              "      <td>1</td>\n",
              "      <td>0</td>\n",
              "      <td>0</td>\n",
              "      <td>0</td>\n",
              "      <td>0</td>\n",
              "      <td>0</td>\n",
              "      <td>1</td>\n",
              "      <td>1</td>\n",
              "      <td>0</td>\n",
              "      <td>0</td>\n",
              "      <td>3</td>\n",
              "      <td>1</td>\n",
              "      <td>1</td>\n",
              "      <td>0</td>\n",
              "      <td>2</td>\n",
              "      <td>2</td>\n",
              "      <td>1</td>\n",
              "      <td>0</td>\n",
              "      <td>0</td>\n",
              "      <td>0</td>\n",
              "      <td>1</td>\n",
              "      <td>0</td>\n",
              "      <td>0</td>\n",
              "      <td>...</td>\n",
              "      <td>0</td>\n",
              "      <td>1</td>\n",
              "      <td>2</td>\n",
              "      <td>0</td>\n",
              "      <td>1</td>\n",
              "      <td>0</td>\n",
              "      <td>0</td>\n",
              "      <td>4</td>\n",
              "      <td>1</td>\n",
              "      <td>0</td>\n",
              "      <td>0</td>\n",
              "      <td>2</td>\n",
              "      <td>1</td>\n",
              "      <td>0</td>\n",
              "      <td>0</td>\n",
              "      <td>0</td>\n",
              "      <td>2</td>\n",
              "      <td>1</td>\n",
              "      <td>0</td>\n",
              "      <td>0</td>\n",
              "      <td>3</td>\n",
              "      <td>0</td>\n",
              "      <td>0</td>\n",
              "      <td>0</td>\n",
              "      <td>0</td>\n",
              "      <td>0</td>\n",
              "      <td>0</td>\n",
              "      <td>3</td>\n",
              "      <td>0</td>\n",
              "      <td>0</td>\n",
              "      <td>3</td>\n",
              "      <td>0</td>\n",
              "      <td>0</td>\n",
              "      <td>2</td>\n",
              "      <td>0</td>\n",
              "      <td>17877</td>\n",
              "      <td>0</td>\n",
              "      <td>0</td>\n",
              "      <td>0</td>\n",
              "      <td>0</td>\n",
              "    </tr>\n",
              "    <tr>\n",
              "      <th>17878</th>\n",
              "      <td>0</td>\n",
              "      <td>2</td>\n",
              "      <td>0</td>\n",
              "      <td>0</td>\n",
              "      <td>0</td>\n",
              "      <td>0</td>\n",
              "      <td>0</td>\n",
              "      <td>0</td>\n",
              "      <td>2</td>\n",
              "      <td>0</td>\n",
              "      <td>0</td>\n",
              "      <td>0</td>\n",
              "      <td>0</td>\n",
              "      <td>1</td>\n",
              "      <td>0</td>\n",
              "      <td>0</td>\n",
              "      <td>0</td>\n",
              "      <td>0</td>\n",
              "      <td>0</td>\n",
              "      <td>0</td>\n",
              "      <td>0</td>\n",
              "      <td>0</td>\n",
              "      <td>0</td>\n",
              "      <td>0</td>\n",
              "      <td>0</td>\n",
              "      <td>0</td>\n",
              "      <td>0</td>\n",
              "      <td>0</td>\n",
              "      <td>0</td>\n",
              "      <td>1</td>\n",
              "      <td>0</td>\n",
              "      <td>0</td>\n",
              "      <td>0</td>\n",
              "      <td>0</td>\n",
              "      <td>0</td>\n",
              "      <td>0</td>\n",
              "      <td>0</td>\n",
              "      <td>1</td>\n",
              "      <td>1</td>\n",
              "      <td>2</td>\n",
              "      <td>...</td>\n",
              "      <td>0</td>\n",
              "      <td>0</td>\n",
              "      <td>0</td>\n",
              "      <td>0</td>\n",
              "      <td>0</td>\n",
              "      <td>1</td>\n",
              "      <td>0</td>\n",
              "      <td>0</td>\n",
              "      <td>0</td>\n",
              "      <td>1</td>\n",
              "      <td>0</td>\n",
              "      <td>1</td>\n",
              "      <td>0</td>\n",
              "      <td>0</td>\n",
              "      <td>0</td>\n",
              "      <td>0</td>\n",
              "      <td>1</td>\n",
              "      <td>0</td>\n",
              "      <td>0</td>\n",
              "      <td>1</td>\n",
              "      <td>0</td>\n",
              "      <td>0</td>\n",
              "      <td>0</td>\n",
              "      <td>0</td>\n",
              "      <td>0</td>\n",
              "      <td>0</td>\n",
              "      <td>0</td>\n",
              "      <td>0</td>\n",
              "      <td>0</td>\n",
              "      <td>0</td>\n",
              "      <td>1</td>\n",
              "      <td>0</td>\n",
              "      <td>0</td>\n",
              "      <td>0</td>\n",
              "      <td>0</td>\n",
              "      <td>17878</td>\n",
              "      <td>0</td>\n",
              "      <td>0</td>\n",
              "      <td>1</td>\n",
              "      <td>0</td>\n",
              "    </tr>\n",
              "    <tr>\n",
              "      <th>17879</th>\n",
              "      <td>0</td>\n",
              "      <td>0</td>\n",
              "      <td>0</td>\n",
              "      <td>0</td>\n",
              "      <td>0</td>\n",
              "      <td>0</td>\n",
              "      <td>0</td>\n",
              "      <td>2</td>\n",
              "      <td>0</td>\n",
              "      <td>0</td>\n",
              "      <td>0</td>\n",
              "      <td>0</td>\n",
              "      <td>0</td>\n",
              "      <td>3</td>\n",
              "      <td>0</td>\n",
              "      <td>0</td>\n",
              "      <td>0</td>\n",
              "      <td>0</td>\n",
              "      <td>0</td>\n",
              "      <td>2</td>\n",
              "      <td>2</td>\n",
              "      <td>1</td>\n",
              "      <td>0</td>\n",
              "      <td>1</td>\n",
              "      <td>1</td>\n",
              "      <td>1</td>\n",
              "      <td>0</td>\n",
              "      <td>0</td>\n",
              "      <td>0</td>\n",
              "      <td>0</td>\n",
              "      <td>1</td>\n",
              "      <td>0</td>\n",
              "      <td>0</td>\n",
              "      <td>1</td>\n",
              "      <td>0</td>\n",
              "      <td>0</td>\n",
              "      <td>0</td>\n",
              "      <td>0</td>\n",
              "      <td>0</td>\n",
              "      <td>0</td>\n",
              "      <td>...</td>\n",
              "      <td>3</td>\n",
              "      <td>0</td>\n",
              "      <td>0</td>\n",
              "      <td>1</td>\n",
              "      <td>0</td>\n",
              "      <td>0</td>\n",
              "      <td>0</td>\n",
              "      <td>0</td>\n",
              "      <td>0</td>\n",
              "      <td>2</td>\n",
              "      <td>4</td>\n",
              "      <td>7</td>\n",
              "      <td>1</td>\n",
              "      <td>2</td>\n",
              "      <td>0</td>\n",
              "      <td>4</td>\n",
              "      <td>1</td>\n",
              "      <td>0</td>\n",
              "      <td>0</td>\n",
              "      <td>2</td>\n",
              "      <td>4</td>\n",
              "      <td>4</td>\n",
              "      <td>0</td>\n",
              "      <td>1</td>\n",
              "      <td>8</td>\n",
              "      <td>1</td>\n",
              "      <td>2</td>\n",
              "      <td>0</td>\n",
              "      <td>2</td>\n",
              "      <td>1</td>\n",
              "      <td>14</td>\n",
              "      <td>1</td>\n",
              "      <td>0</td>\n",
              "      <td>2</td>\n",
              "      <td>1</td>\n",
              "      <td>17879</td>\n",
              "      <td>0</td>\n",
              "      <td>1</td>\n",
              "      <td>1</td>\n",
              "      <td>0</td>\n",
              "    </tr>\n",
              "  </tbody>\n",
              "</table>\n",
              "<p>17880 rows × 205 columns</p>\n",
              "</div>"
            ],
            "text/plain": [
              "       abil  abl  account  ...  has_company_logo  has_questions  fraudulent\n",
              "0         0    0        0  ...                 1              0           0\n",
              "1         0    1        1  ...                 1              0           0\n",
              "2         0    0        0  ...                 1              0           0\n",
              "3         1    0       11  ...                 1              0           0\n",
              "4         0    1        1  ...                 1              1           0\n",
              "...     ...  ...      ...  ...               ...            ...         ...\n",
              "17875     1    0        3  ...                 1              1           0\n",
              "17876     2    1       12  ...                 1              1           0\n",
              "17877     0    1        2  ...                 0              0           0\n",
              "17878     0    2        0  ...                 0              1           0\n",
              "17879     0    0        0  ...                 1              1           0\n",
              "\n",
              "[17880 rows x 205 columns]"
            ]
          },
          "metadata": {
            "tags": []
          },
          "execution_count": 19
        }
      ]
    },
    {
      "cell_type": "code",
      "metadata": {
        "id": "VEumJJ1OXAz5",
        "outputId": "2313b5d8-1415-4b9c-c0d0-3617b0a49baa"
      },
      "source": [
        "main_df_tfidf.to_csv('/Users/vasudha/Desktop/Semester 6/CIS 3715/Project/tfidf.csv')\n",
        "main_df_cv.to_csv('/Users/vasudha/Desktop/Semester 6/CIS 3715/Project/cv.csv')\n",
        "print('done')"
      ],
      "execution_count": null,
      "outputs": [
        {
          "output_type": "stream",
          "text": [
            "done\n"
          ],
          "name": "stdout"
        }
      ]
    },
    {
      "cell_type": "code",
      "metadata": {
        "id": "tZo0UIb6XAz5",
        "outputId": "adf75d5d-cb96-4263-ca3b-846f9ce51fe4"
      },
      "source": [
        "x_tfidf = main_df_tfidf.drop('fraudulent', axis = 1)\n",
        "y_tfidf = main_df_tfidf['fraudulent']\n",
        "print(x_tfidf.shape)\n",
        "print(y_tfidf.shape)\n",
        "x_cv = main_df_cv.drop('fraudulent', axis = 1)\n",
        "y_cv = main_df_cv['fraudulent']\n",
        "print(x_cv.shape)\n",
        "print(y_cv.shape)"
      ],
      "execution_count": null,
      "outputs": [
        {
          "output_type": "stream",
          "text": [
            "(17880, 204)\n",
            "(17880,)\n",
            "(17880, 204)\n",
            "(17880,)\n"
          ],
          "name": "stdout"
        }
      ]
    },
    {
      "cell_type": "code",
      "metadata": {
        "id": "1tv2IUDcXAz6",
        "outputId": "bda763b5-2e19-4760-e9db-dc01a8134ca9"
      },
      "source": [
        "#balance the data\n",
        "from imblearn.over_sampling import SMOTE\n",
        "sm = SMOTE(random_state = 15)\n",
        "new_x_tfidf, new_y_tfidf = sm.fit_resample(x_tfidf,y_tfidf)\n",
        "new_y_tfidf.value_counts().plot(kind = 'bar')\n",
        "\n",
        "sm = SMOTE(random_state = 15)\n",
        "new_x_cv, new_y_cv = sm.fit_resample(x_cv,y_cv)\n",
        "new_y_cv.value_counts().plot(kind = 'bar')"
      ],
      "execution_count": null,
      "outputs": [
        {
          "output_type": "execute_result",
          "data": {
            "text/plain": [
              "<AxesSubplot:>"
            ]
          },
          "metadata": {
            "tags": []
          },
          "execution_count": 36
        },
        {
          "output_type": "display_data",
          "data": {
            "image/png": "[encoded data removed]",
            "text/plain": [
              "<Figure size 432x288 with 1 Axes>"
            ]
          },
          "metadata": {
            "tags": [],
            "needs_background": "light"
          }
        }
      ]
    },
    {
      "cell_type": "code",
      "metadata": {
        "id": "a8BG8eMsXAz6"
      },
      "source": [
        "#split the data\n",
        "x_train_tfidf, x_test_tfidf, y_train_tfidf, y_test_tfidf = train_test_split(new_x_tfidf,new_y_tfidf,test_size = .2)\n",
        "x_train_cv, x_test_cv, y_train_cv, y_test_cv = train_test_split(new_x_cv,new_y_cv,test_size = .2)\n",
        "\n"
      ],
      "execution_count": null,
      "outputs": []
    },
    {
      "cell_type": "code",
      "metadata": {
        "id": "mM-aTFMZXAz7",
        "outputId": "f23a4ceb-5ff3-45cf-8698-e18bb2ef9648"
      },
      "source": [
        "print(x_train_tfidf.shape)\n",
        "print(x_test_tfidf.shape)\n",
        "print(y_train_tfidf.shape)\n",
        "print(y_test_tfidf.shape)"
      ],
      "execution_count": null,
      "outputs": [
        {
          "output_type": "stream",
          "text": [
            "(27222, 204)\n",
            "(6806, 204)\n",
            "(27222,)\n",
            "(6806,)\n"
          ],
          "name": "stdout"
        }
      ]
    },
    {
      "cell_type": "code",
      "metadata": {
        "scrolled": true,
        "id": "VQqQwy0CXAz7",
        "outputId": "8652e3a2-a25e-40e1-bc00-95ffb2d92746"
      },
      "source": [
        "#logistic regression tfidf\n",
        "from sklearn.linear_model import LogisticRegression\n",
        "from sklearn.model_selection import GridSearchCV\n",
        "from sklearn.metrics import classification_report\n",
        "import seaborn as sns\n",
        "coeff = range(1, 10)\n",
        "param_grid = {'C':coeff, 'penalty':[\"l1\",\"l2\"]}\n",
        "lr = LogisticRegression(solver = 'liblinear')\n",
        "grid_lr = GridSearchCV(lr, param_grid, cv = 10)\n",
        "grid_lr.fit(x_train_tfidf,y_train_tfidf)\n",
        "\n",
        "lrf_tfidf = LogisticRegression(C=grid_lr.best_params_['C'], penalty = grid_lr.best_params_['penalty'],solver = 'liblinear')\n",
        "lrf_tfidf.fit(x_train_tfidf, y_train_tfidf)\n",
        "y_pred_tfidf = lrf_tfidf.predict(x_test_tfidf)\n",
        "cm = confusion_matrix(y_test_tfidf, y_pred_tfidf)\n",
        "print(\"Tfidf Logistics Regression:\")\n",
        "print(classification_report(y_test_tfidf,y_pred_tfidf))\n",
        "sns.heatmap(cm/np.sum(cm),annot=True, fmt='.2%')"
      ],
      "execution_count": null,
      "outputs": [
        {
          "output_type": "stream",
          "text": [
            "Tfidf Logistics Regression:\n",
            "              precision    recall  f1-score   support\n",
            "\n",
            "           0       0.93      0.90      0.92      3442\n",
            "           1       0.90      0.93      0.92      3364\n",
            "\n",
            "    accuracy                           0.92      6806\n",
            "   macro avg       0.92      0.92      0.92      6806\n",
            "weighted avg       0.92      0.92      0.92      6806\n",
            "\n"
          ],
          "name": "stdout"
        },
        {
          "output_type": "execute_result",
          "data": {
            "text/plain": [
              "<AxesSubplot:>"
            ]
          },
          "metadata": {
            "tags": []
          },
          "execution_count": 39
        },
        {
          "output_type": "display_data",
          "data": {
            "image/png": "[encoded data removed]",
            "text/plain": [
              "<Figure size 432x288 with 2 Axes>"
            ]
          },
          "metadata": {
            "tags": [],
            "needs_background": "light"
          }
        }
      ]
    },
    {
      "cell_type": "code",
      "metadata": {
        "scrolled": true,
        "id": "6fM3LKFwXAz8",
        "outputId": "1b20585d-3cd2-4cca-ec0b-bb25dbd81032"
      },
      "source": [
        "#logistic regression bow\n",
        "coeff = range(1, 10)\n",
        "\n",
        "param_grid = {'C':coeff, 'penalty':[\"l1\",\"l2\"]}\n",
        "lr = LogisticRegression(solver = 'liblinear')\n",
        "grid_lr = GridSearchCV(lr, param_grid, cv = 10)\n",
        "grid_lr.fit(x_train_cv,y_train_cv)\n",
        "lrf_cv = LogisticRegression(C=grid_lr.best_params_['C'], penalty = grid_lr.best_params_['penalty'],solver = 'liblinear')\n",
        "lrf_cv.fit(x_train_cv, y_train_cv)\n",
        "\n",
        "y_pred_cv = lrf_cv.predict(x_test_cv)\n",
        "print(\"BOW Logistics Regression:\")\n",
        "print(classification_report(y_test_cv,y_pred_cv))\n",
        "cm = confusion_matrix(y_test_cv,y_pred_cv)\n",
        "sns.heatmap(cm/np.sum(cm),annot=True, fmt='.2%')"
      ],
      "execution_count": null,
      "outputs": [
        {
          "output_type": "stream",
          "text": [
            "BOW Logistics Regression:\n",
            "              precision    recall  f1-score   support\n",
            "\n",
            "           0       0.96      0.94      0.95      3330\n",
            "           1       0.94      0.96      0.95      3476\n",
            "\n",
            "    accuracy                           0.95      6806\n",
            "   macro avg       0.95      0.95      0.95      6806\n",
            "weighted avg       0.95      0.95      0.95      6806\n",
            "\n"
          ],
          "name": "stdout"
        },
        {
          "output_type": "execute_result",
          "data": {
            "text/plain": [
              "<AxesSubplot:>"
            ]
          },
          "metadata": {
            "tags": []
          },
          "execution_count": 40
        },
        {
          "output_type": "display_data",
          "data": {
            "image/png": "[encoded data removed]",
            "text/plain": [
              "<Figure size 432x288 with 2 Axes>"
            ]
          },
          "metadata": {
            "tags": [],
            "needs_background": "light"
          }
        }
      ]
    },
    {
      "cell_type": "code",
      "metadata": {
        "id": "jKQeynMxXAz8",
        "outputId": "fbf3c18c-4e88-47cf-a586-172160500b51"
      },
      "source": [
        "#knn tfidf\n",
        "from sklearn.neighbors import KNeighborsClassifier\n",
        "k = range(1,8)\n",
        "param_grid = dict(n_neighbors = k)\n",
        "knn = KNeighborsClassifier(n_neighbors=1)\n",
        "grid = GridSearchCV(knn, param_grid, cv = 10)\n",
        "grid.fit(x_train_tfidf, y_train_tfidf)\n",
        "\n",
        "knn_tfidf = KNeighborsClassifier(n_neighbors=grid.best_params_['n_neighbors'])\n",
        "knn_tfidf.fit(x_train_tfidf,y_train_tfidf)\n",
        "y_test_pred = knn_tfidf.predict(x_test_tfidf)\n",
        "print(\"TFIDF KNN:\")\n",
        "print(\"With \" + str(grid.best_params_['n_neighbors']) + \" as K\")\n",
        "print(classification_report(y_test_tfidf,y_test_pred))\n",
        "cm = confusion_matrix(y_test_tfidf, y_test_pred)\n",
        "sns.heatmap(cm/np.sum(cm),annot=True, fmt='.2%')\n"
      ],
      "execution_count": null,
      "outputs": [
        {
          "output_type": "stream",
          "text": [
            "TFIDF KNN:\n",
            "With 2 as K\n",
            "              precision    recall  f1-score   support\n",
            "\n",
            "           0       0.83      0.89      0.86      3442\n",
            "           1       0.88      0.81      0.85      3364\n",
            "\n",
            "    accuracy                           0.85      6806\n",
            "   macro avg       0.86      0.85      0.85      6806\n",
            "weighted avg       0.86      0.85      0.85      6806\n",
            "\n"
          ],
          "name": "stdout"
        },
        {
          "output_type": "execute_result",
          "data": {
            "text/plain": [
              "<AxesSubplot:>"
            ]
          },
          "metadata": {
            "tags": []
          },
          "execution_count": 41
        },
        {
          "output_type": "display_data",
          "data": {
            "image/png": "[encoded data removed]",
            "text/plain": [
              "<Figure size 432x288 with 2 Axes>"
            ]
          },
          "metadata": {
            "tags": [],
            "needs_background": "light"
          }
        }
      ]
    },
    {
      "cell_type": "code",
      "metadata": {
        "id": "crxM60BPXAz9",
        "outputId": "bd841c03-c54a-4922-bea1-1521e83a0aec"
      },
      "source": [
        "#knn bow\n",
        "param_grid = dict(n_neighbors = k)\n",
        "knn = KNeighborsClassifier(n_neighbors=1)\n",
        "grid = GridSearchCV(knn, param_grid, cv = 10)\n",
        "grid.fit(x_train_cv, y_train_cv)\n",
        "\n",
        "knn_cv = KNeighborsClassifier(n_neighbors=grid.best_params_['n_neighbors'])\n",
        "knn_cv.fit(x_train_cv,y_train_cv)\n",
        "y_test_pred = knn_cv.predict(x_test_cv)\n",
        "print(\"BOW KNN:\")\n",
        "print(\"With \" + str(grid.best_params_['n_neighbors']) + \" as K\")\n",
        "print(classification_report(y_test_cv,y_test_pred))\n",
        "cm = confusion_matrix(y_test_cv, y_test_pred)\n",
        "sns.heatmap(cm/np.sum(cm),annot=True, fmt='.2%')"
      ],
      "execution_count": null,
      "outputs": [
        {
          "output_type": "stream",
          "text": [
            "BOW KNN:\n",
            "With 2 as K\n",
            "              precision    recall  f1-score   support\n",
            "\n",
            "           0       0.97      0.86      0.91      3330\n",
            "           1       0.87      0.97      0.92      3476\n",
            "\n",
            "    accuracy                           0.91      6806\n",
            "   macro avg       0.92      0.91      0.91      6806\n",
            "weighted avg       0.92      0.91      0.91      6806\n",
            "\n"
          ],
          "name": "stdout"
        },
        {
          "output_type": "execute_result",
          "data": {
            "text/plain": [
              "<AxesSubplot:>"
            ]
          },
          "metadata": {
            "tags": []
          },
          "execution_count": 42
        },
        {
          "output_type": "display_data",
          "data": {
            "image/png": "[encoded data removed]",
            "text/plain": [
              "<Figure size 432x288 with 2 Axes>"
            ]
          },
          "metadata": {
            "tags": [],
            "needs_background": "light"
          }
        }
      ]
    },
    {
      "cell_type": "code",
      "metadata": {
        "id": "OoJTGC-YXAz9",
        "outputId": "7b41d1f0-dc4e-42d0-beaf-4dfddd9baa63"
      },
      "source": [
        "#mlp?\n",
        "from sklearn.neural_network import MLPClassifier\n",
        "mlp_tfidf = MLPClassifier(max_iter=1, random_state = 15)\n",
        "parameter_grid = {\n",
        "    'hidden_layer_sizes': [(10,),(20,)],\n",
        "    'activation': ['tanh', 'relu'],\n",
        "    'solver': ['sgd', 'adam'],\n",
        "    'alpha': [0.0001, 0.05],\n",
        "    'learning_rate': ['constant','adaptive'],\n",
        "}\n",
        "grid_mlp_tfidf = GridSearchCV(mlp_tfidf,parameter_grid, n_jobs = -1, cv = 2)\n",
        "grid_mlp_tfidf.fit(x_train_tfidf, y_train_tfidf)\n",
        "mlp_tfidf_1 = MLPClassifier(max_iter = 1,hidden_layer_sizes = grid_mlp_tfidf.best_params_['hidden_layer_sizes'], activation = grid_mlp_tfidf.best_params_['activation'], solver = grid_mlp_tfidf.best_params_['solver'], alpha = grid_mlp_tfidf.best_params_['alpha'], learning_rate = grid_mlp_tfidf.best_params_['learning_rate'] )\n",
        "mlp_tfidf_1.fit(x_train_tfidf, y_train_tfidf)\n",
        "y_test_pred = mlp_tfidf_1.predict(x_test_tfidf)\n",
        "print(\"TFIDF MLP:\")\n",
        "print(classification_report(y_test_tfidf,y_test_pred))\n",
        "cm = confusion_matrix(y_test_tfidf, y_test_pred)\n",
        "sns.heatmap(cm/np.sum(cm),annot=True, fmt='.2%')\n",
        "\n"
      ],
      "execution_count": null,
      "outputs": [
        {
          "output_type": "stream",
          "text": [
            "/Users/vasudha/opt/anaconda3/lib/python3.8/site-packages/sklearn/neural_network/_multilayer_perceptron.py:614: ConvergenceWarning: Stochastic Optimizer: Maximum iterations (1) reached and the optimization hasn't converged yet.\n",
            "  warnings.warn(\n"
          ],
          "name": "stderr"
        },
        {
          "output_type": "stream",
          "text": [
            "TFIDF MLP:\n",
            "              precision    recall  f1-score   support\n",
            "\n",
            "           0       0.99      0.03      0.06      3442\n",
            "           1       0.50      1.00      0.67      3364\n",
            "\n",
            "    accuracy                           0.51      6806\n",
            "   macro avg       0.75      0.51      0.36      6806\n",
            "weighted avg       0.75      0.51      0.36      6806\n",
            "\n"
          ],
          "name": "stdout"
        },
        {
          "output_type": "stream",
          "text": [
            "/Users/vasudha/opt/anaconda3/lib/python3.8/site-packages/sklearn/neural_network/_multilayer_perceptron.py:614: ConvergenceWarning: Stochastic Optimizer: Maximum iterations (1) reached and the optimization hasn't converged yet.\n",
            "  warnings.warn(\n"
          ],
          "name": "stderr"
        },
        {
          "output_type": "execute_result",
          "data": {
            "text/plain": [
              "<AxesSubplot:>"
            ]
          },
          "metadata": {
            "tags": []
          },
          "execution_count": 52
        },
        {
          "output_type": "display_data",
          "data": {
            "image/png": "[encoded data removed]",
            "text/plain": [
              "<Figure size 432x288 with 2 Axes>"
            ]
          },
          "metadata": {
            "tags": [],
            "needs_background": "light"
          }
        }
      ]
    },
    {
      "cell_type": "code",
      "metadata": {
        "id": "0pHRqCIpXAz-",
        "outputId": "48405e72-1d40-4ec4-ed73-b9489d507c2f"
      },
      "source": [
        "mlp_cv = MLPClassifier(max_iter=1, random_state = 15)\n",
        "parameter_grid = {\n",
        "    'hidden_layer_sizes': [(10,),(20,)],\n",
        "    'activation': ['tanh', 'relu'],\n",
        "    'solver': ['sgd', 'adam'],\n",
        "    'alpha': [0.0001, 0.05],\n",
        "    'learning_rate': ['constant','adaptive'],\n",
        "}\n",
        "grid_mlp_cv = GridSearchCV(mlp_cv,parameter_grid, n_jobs = -1, cv = 2)\n",
        "grid_mlp_cv.fit(x_train_cv, y_train_cv)\n",
        "mlp_cv_1 = MLPClassifier(max_iter = 1,hidden_layer_sizes = grid_mlp_cv.best_params_['hidden_layer_sizes'], activation = grid_mlp_cv.best_params_['activation'], solver = grid_mlp_cv.best_params_['solver'], alpha = grid_mlp_cv.best_params_['alpha'], learning_rate = grid_mlp_cv.best_params_['learning_rate'] )\n",
        "mlp_cv_1.fit(x_train_cv, y_train_cv)\n",
        "y_test_pred = mlp_cv_1.predict(x_test_cv)\n",
        "print(\"BOW MLP:\")\n",
        "print(classification_report(y_test_cv,y_test_pred))\n",
        "cm = confusion_matrix(y_test_cv, y_test_pred)\n",
        "sns.heatmap(cm/np.sum(cm),annot=True, fmt='.2%')"
      ],
      "execution_count": null,
      "outputs": [
        {
          "output_type": "stream",
          "text": [
            "/Users/vasudha/opt/anaconda3/lib/python3.8/site-packages/sklearn/neural_network/_multilayer_perceptron.py:614: ConvergenceWarning: Stochastic Optimizer: Maximum iterations (1) reached and the optimization hasn't converged yet.\n",
            "  warnings.warn(\n"
          ],
          "name": "stderr"
        },
        {
          "output_type": "stream",
          "text": [
            "BOW MLP:\n",
            "              precision    recall  f1-score   support\n",
            "\n",
            "           0       0.67      0.67      0.67      3330\n",
            "           1       0.68      0.68      0.68      3476\n",
            "\n",
            "    accuracy                           0.68      6806\n",
            "   macro avg       0.68      0.68      0.68      6806\n",
            "weighted avg       0.68      0.68      0.68      6806\n",
            "\n"
          ],
          "name": "stdout"
        },
        {
          "output_type": "stream",
          "text": [
            "/Users/vasudha/opt/anaconda3/lib/python3.8/site-packages/sklearn/neural_network/_multilayer_perceptron.py:614: ConvergenceWarning: Stochastic Optimizer: Maximum iterations (1) reached and the optimization hasn't converged yet.\n",
            "  warnings.warn(\n"
          ],
          "name": "stderr"
        },
        {
          "output_type": "execute_result",
          "data": {
            "text/plain": [
              "<AxesSubplot:>"
            ]
          },
          "metadata": {
            "tags": []
          },
          "execution_count": 51
        },
        {
          "output_type": "display_data",
          "data": {
            "image/png": "[encoded data removed]",
            "text/plain": [
              "<Figure size 432x288 with 2 Axes>"
            ]
          },
          "metadata": {
            "tags": [],
            "needs_background": "light"
          }
        }
      ]
    },
    {
      "cell_type": "code",
      "metadata": {
        "id": "z6fW43ksXAz-",
        "outputId": "4048e529-e527-4565-fbd7-a1e1f57fc0c1"
      },
      "source": [
        "#random forest classifier tfidf\n",
        "from sklearn.ensemble import RandomForestClassifier\n",
        "param_grid = { \n",
        "    'n_estimators': [5, 20, 25]\n",
        "}\n",
        "rf = RandomForestClassifier(criterion=\"entropy\")\n",
        "grid_rfc_tfidf = GridSearchCV(rf, param_grid, cv = 5)\n",
        "grid_rfc_tfidf.fit(x_train_tfidf, y_train_tfidf)\n",
        "rf_tfidf = RandomForestClassifier(criterion=\"entropy\",n_estimators = grid_rfc_tfidf.best_params_['n_estimators'])\n",
        "rf_tfidf.fit(x_train_tfidf, y_train_tfidf)\n",
        "y_pred = rf_tfidf.predict(x_test_tfidf)\n",
        "print(\"TFIDF RFC:\")\n",
        "print(classification_report(y_test_tfidf,y_pred))\n",
        "cm = confusion_matrix(y_test_tfidf, y_pred)\n",
        "sns.heatmap(cm/np.sum(cm),annot=True, fmt='.2%')\n",
        "\n"
      ],
      "execution_count": null,
      "outputs": [
        {
          "output_type": "stream",
          "text": [
            "TFIDF RFC:\n",
            "              precision    recall  f1-score   support\n",
            "\n",
            "           0       0.99      0.99      0.99      3442\n",
            "           1       0.99      0.99      0.99      3364\n",
            "\n",
            "    accuracy                           0.99      6806\n",
            "   macro avg       0.99      0.99      0.99      6806\n",
            "weighted avg       0.99      0.99      0.99      6806\n",
            "\n"
          ],
          "name": "stdout"
        },
        {
          "output_type": "execute_result",
          "data": {
            "text/plain": [
              "<AxesSubplot:>"
            ]
          },
          "metadata": {
            "tags": []
          },
          "execution_count": 53
        },
        {
          "output_type": "display_data",
          "data": {
            "image/png": "[encoded data removed]",
            "text/plain": [
              "<Figure size 432x288 with 2 Axes>"
            ]
          },
          "metadata": {
            "tags": [],
            "needs_background": "light"
          }
        }
      ]
    },
    {
      "cell_type": "code",
      "metadata": {
        "id": "87yXicIsXAz_",
        "outputId": "e0563b70-5dde-4a57-9a2c-6786e73657f3"
      },
      "source": [
        "#random forest classifier bow\n",
        "param_grid = { \n",
        "    'n_estimators': [5, 20, 25]\n",
        "}\n",
        "rf = RandomForestClassifier(criterion=\"entropy\")\n",
        "grid_rfc_cv = GridSearchCV(rf, param_grid, cv = 5)\n",
        "grid_rfc_cv.fit(x_train_cv, y_train_cv)\n",
        "rf_cv = RandomForestClassifier(criterion=\"entropy\",n_estimators = grid_rfc_cv.best_params_['n_estimators'])\n",
        "rf_cv.fit(x_train_cv, y_train_cv)\n",
        "y_pred = rf_tfidf.predict(x_test_cv)\n",
        "print(\"CV RFC:\")\n",
        "print(classification_report(y_test_cv,y_pred))\n",
        "cm = confusion_matrix(y_test_cv, y_pred)\n",
        "sns.heatmap(cm/np.sum(cm),annot=True, fmt='.2%')"
      ],
      "execution_count": null,
      "outputs": [
        {
          "output_type": "stream",
          "text": [
            "CV RFC:\n",
            "              precision    recall  f1-score   support\n",
            "\n",
            "           0       0.70      1.00      0.83      3330\n",
            "           1       1.00      0.60      0.75      3476\n",
            "\n",
            "    accuracy                           0.79      6806\n",
            "   macro avg       0.85      0.80      0.79      6806\n",
            "weighted avg       0.85      0.79      0.78      6806\n",
            "\n"
          ],
          "name": "stdout"
        },
        {
          "output_type": "execute_result",
          "data": {
            "text/plain": [
              "<AxesSubplot:>"
            ]
          },
          "metadata": {
            "tags": []
          },
          "execution_count": 55
        },
        {
          "output_type": "display_data",
          "data": {
            "image/png": "[encoded data removed]",
            "text/plain": [
              "<Figure size 432x288 with 2 Axes>"
            ]
          },
          "metadata": {
            "tags": [],
            "needs_background": "light"
          }
        }
      ]
    },
    {
      "cell_type": "code",
      "metadata": {
        "id": "DF5ebDAgXAz_",
        "outputId": "410ea550-cfc9-49c9-d023-b43b04c4f43b"
      },
      "source": [
        "from sklearn.ensemble import VotingClassifier\n",
        "#voting classifier, hard, tfidf\n",
        "voting_hard = VotingClassifier(estimators = [('RFC',rf_tfidf), ('Log Reg',lrf_tfidf), ('KNN', knn_tfidf)], voting = 'hard')\n",
        "voting_hard.fit(x_train_tfidf, y_train_tfidf)\n",
        "preds = voting_hard.predict(x_test_tfidf)\n",
        "print(classification_report(y_test_tfidf,preds))\n",
        "cm = confusion_matrix(y_test_tfidf, preds)\n",
        "sns.heatmap(cm/np.sum(cm),annot=True, fmt='.2%')"
      ],
      "execution_count": null,
      "outputs": [
        {
          "output_type": "stream",
          "text": [
            "              precision    recall  f1-score   support\n",
            "\n",
            "           0       0.98      0.98      0.98      3442\n",
            "           1       0.98      0.98      0.98      3364\n",
            "\n",
            "    accuracy                           0.98      6806\n",
            "   macro avg       0.98      0.98      0.98      6806\n",
            "weighted avg       0.98      0.98      0.98      6806\n",
            "\n"
          ],
          "name": "stdout"
        },
        {
          "output_type": "execute_result",
          "data": {
            "text/plain": [
              "<AxesSubplot:>"
            ]
          },
          "metadata": {
            "tags": []
          },
          "execution_count": 56
        },
        {
          "output_type": "display_data",
          "data": {
            "image/png": "[encoded data removed]",
            "text/plain": [
              "<Figure size 432x288 with 2 Axes>"
            ]
          },
          "metadata": {
            "tags": [],
            "needs_background": "light"
          }
        }
      ]
    },
    {
      "cell_type": "code",
      "metadata": {
        "id": "x2RdJn5wXAz_",
        "outputId": "ceabc5a4-20e3-4241-882f-dd76d7d676ab"
      },
      "source": [
        "voting_soft = VotingClassifier(estimators = [('RFC',rf_tfidf), ('Log Reg',lrf_tfidf), ('KNN', knn_tfidf)], voting = 'soft')\n",
        "voting_soft.fit(x_train_tfidf, y_train_tfidf)\n",
        "preds = voting_soft.predict(x_test_tfidf)\n",
        "print(classification_report(y_test_tfidf,preds))\n",
        "cm = confusion_matrix(y_test_tfidf, preds)\n",
        "sns.heatmap(cm/np.sum(cm),annot=True, fmt='.2%')"
      ],
      "execution_count": null,
      "outputs": [
        {
          "output_type": "stream",
          "text": [
            "              precision    recall  f1-score   support\n",
            "\n",
            "           0       0.98      0.97      0.97      3442\n",
            "           1       0.97      0.98      0.97      3364\n",
            "\n",
            "    accuracy                           0.97      6806\n",
            "   macro avg       0.97      0.97      0.97      6806\n",
            "weighted avg       0.97      0.97      0.97      6806\n",
            "\n"
          ],
          "name": "stdout"
        },
        {
          "output_type": "execute_result",
          "data": {
            "text/plain": [
              "<AxesSubplot:>"
            ]
          },
          "metadata": {
            "tags": []
          },
          "execution_count": 57
        },
        {
          "output_type": "display_data",
          "data": {
            "image/png": "[encoded data removed]",
            "text/plain": [
              "<Figure size 432x288 with 2 Axes>"
            ]
          },
          "metadata": {
            "tags": [],
            "needs_background": "light"
          }
        }
      ]
    },
    {
      "cell_type": "code",
      "metadata": {
        "id": "Dl3-q8kLXA0A",
        "outputId": "2054f0fb-f43f-4990-9490-df6ff308ab7f"
      },
      "source": [
        "voting_hard = VotingClassifier(estimators = [('RFC',rf_cv), ('Log Reg',lrf_cv), ('KNN', knn_cv)], voting = 'hard')\n",
        "voting_hard.fit(x_train_cv, y_train_cv)\n",
        "preds = voting_hard.predict(x_test_cv)\n",
        "print(classification_report(y_test_cv,preds))\n",
        "cm = confusion_matrix(y_test_cv, preds)\n",
        "sns.heatmap(cm/np.sum(cm),annot=True, fmt='.2%')"
      ],
      "execution_count": null,
      "outputs": [
        {
          "output_type": "stream",
          "text": [
            "              precision    recall  f1-score   support\n",
            "\n",
            "           0       0.99      0.98      0.98      3330\n",
            "           1       0.98      0.99      0.99      3476\n",
            "\n",
            "    accuracy                           0.98      6806\n",
            "   macro avg       0.98      0.98      0.98      6806\n",
            "weighted avg       0.98      0.98      0.98      6806\n",
            "\n"
          ],
          "name": "stdout"
        },
        {
          "output_type": "execute_result",
          "data": {
            "text/plain": [
              "<AxesSubplot:>"
            ]
          },
          "metadata": {
            "tags": []
          },
          "execution_count": 58
        },
        {
          "output_type": "display_data",
          "data": {
            "image/png": "[encoded data removed]",
            "text/plain": [
              "<Figure size 432x288 with 2 Axes>"
            ]
          },
          "metadata": {
            "tags": [],
            "needs_background": "light"
          }
        }
      ]
    },
    {
      "cell_type": "code",
      "metadata": {
        "id": "8RUCK31WXA0A",
        "outputId": "25f8db96-7e5f-4016-9c78-bf775e55ba71"
      },
      "source": [
        "#voting classifer, soft, cv\n",
        "voting_soft = VotingClassifier(estimators = [('RFC',rf_cv), ('Log Reg',lrf_cv), ('KNN', knn_cv)], voting = 'soft')\n",
        "voting_soft.fit(x_train_cv, y_train_cv)\n",
        "preds = voting_soft.predict(x_test_cv)\n",
        "print(classification_report(y_test_cv,preds))\n",
        "cm = confusion_matrix(y_test_cv, preds)\n",
        "sns.heatmap(cm/np.sum(cm),annot=True, fmt='.2%')"
      ],
      "execution_count": null,
      "outputs": [
        {
          "output_type": "stream",
          "text": [
            "              precision    recall  f1-score   support\n",
            "\n",
            "           0       1.00      0.97      0.98      3330\n",
            "           1       0.97      1.00      0.98      3476\n",
            "\n",
            "    accuracy                           0.98      6806\n",
            "   macro avg       0.98      0.98      0.98      6806\n",
            "weighted avg       0.98      0.98      0.98      6806\n",
            "\n"
          ],
          "name": "stdout"
        },
        {
          "output_type": "execute_result",
          "data": {
            "text/plain": [
              "<AxesSubplot:>"
            ]
          },
          "metadata": {
            "tags": []
          },
          "execution_count": 59
        },
        {
          "output_type": "display_data",
          "data": {
            "image/png": "[encoded data removed]",
            "text/plain": [
              "<Figure size 432x288 with 2 Axes>"
            ]
          },
          "metadata": {
            "tags": [],
            "needs_background": "light"
          }
        }
      ]
    },
    {
      "cell_type": "code",
      "metadata": {
        "id": "t3TopxNYXA0A"
      },
      "source": [
        ""
      ],
      "execution_count": null,
      "outputs": []
    }
  ]
}